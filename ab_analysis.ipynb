{
 "cells": [
  {
   "cell_type": "markdown",
   "id": "ba1c740a-e7b6-4f5d-905f-9764a91d8eaa",
   "metadata": {},
   "source": [
    "# Финальный проект, вариант 2\n",
    "выполнила Мария Васильева, поток 63, логин marija-vasileva-tph5653"
   ]
  },
  {
   "cell_type": "markdown",
   "id": "128bf2ee-a215-4cfd-877a-994405f6c804",
   "metadata": {},
   "source": [
    "## Задание 1: A/B-тестирование\n",
    "Эксперимент: Целевой группе была предложена **новая механика оплаты услуг на сайте**, у контрольной группы оставалась базовая механика. \n",
    "\n",
    "Необходимо проанализировать итоги эксперимента и сделать вывод, стоит ли запускать новую механику оплаты на всех пользователей"
   ]
  },
  {
   "cell_type": "code",
   "execution_count": 1,
   "id": "658eb538-a7db-4cc2-8529-54e2bdcccbaf",
   "metadata": {},
   "outputs": [],
   "source": [
    "import pandas as pd\n",
    "from operator import attrgetter\n",
    "import seaborn as sns\n",
    "%matplotlib inline\n",
    "from matplotlib import pyplot as plt\n",
    "from matplotlib import colors as mcolors    \n",
    "from statsmodels.stats.proportion import proportions_ztest, confint_proportions_2indep\n",
    "import numpy as np\n",
    "from scipy import stats\n",
    "sns.set(rc={'figure.figsize':(12,6)}, style=\"whitegrid\")"
   ]
  },
  {
   "cell_type": "markdown",
   "id": "e7b0d08f-bceb-41ab-be5b-9417f8ebde4a",
   "metadata": {},
   "source": [
    "### Данные\n",
    " - groups.csv – файл с информацией о принадлежности пользователя к контрольной или экспериментальной группе (А – контрольная, B – экспериментальная группа) \n",
    "- group_add.csv – дополнительный файл с пользователями, который вам прислали спустя 2 дня после передачи данных. **Данный файл требуется для задания 3**\n",
    "- active_studs.csv – файл с информацией о пользователях, которые зашли на платформу в дни проведения эксперимента. \n",
    "- checks.csv – файл с информацией об оплатах пользователей в дни проведения эксперимента. "
   ]
  },
  {
   "cell_type": "code",
   "execution_count": 2,
   "id": "6c0e43b6-d30e-4870-aec6-18c475b9aede",
   "metadata": {},
   "outputs": [],
   "source": [
    "groups = pd.read_csv('/home/karpov/FinalProject/groups.csv', sep=';',index_col=None)"
   ]
  },
  {
   "cell_type": "code",
   "execution_count": 3,
   "id": "b82a942c-214a-462d-8105-04b05845ae5f",
   "metadata": {},
   "outputs": [],
   "source": [
    "studs = pd.read_csv('/home/karpov/FinalProject/active_studs.csv',sep=';', index_col=None)"
   ]
  },
  {
   "cell_type": "code",
   "execution_count": 4,
   "id": "67c95da0-f092-4ae2-a4bb-76f6c036fd08",
   "metadata": {},
   "outputs": [],
   "source": [
    "checks = pd.read_csv('/home/karpov/FinalProject/checks.csv',sep=';', index_col=None)"
   ]
  },
  {
   "cell_type": "markdown",
   "id": "3387a07c-2136-4621-ab49-2499b906255e",
   "metadata": {},
   "source": [
    "### Подготовка данных"
   ]
  },
  {
   "cell_type": "code",
   "execution_count": 5,
   "id": "f0459deb-d95b-433b-ac9d-2809910396cf",
   "metadata": {},
   "outputs": [
    {
     "data": {
      "text/plain": [
       "(74484, 2)"
      ]
     },
     "execution_count": 5,
     "metadata": {},
     "output_type": "execute_result"
    }
   ],
   "source": [
    "groups.shape"
   ]
  },
  {
   "cell_type": "code",
   "execution_count": 6,
   "id": "498ca7de-bb66-4540-9ba6-f5a18b72f198",
   "metadata": {},
   "outputs": [
    {
     "data": {
      "text/plain": [
       "B    59813\n",
       "A    14671\n",
       "Name: grp, dtype: int64"
      ]
     },
     "execution_count": 6,
     "metadata": {},
     "output_type": "execute_result"
    }
   ],
   "source": [
    "groups['grp'].value_counts() # посчитаем, сколько пользователей в каждой группе"
   ]
  },
  {
   "cell_type": "markdown",
   "id": "519a37c2-7d63-4406-9fd3-567f218e166f",
   "metadata": {},
   "source": [
    "экспериментальная группа  -  14671 пользователь, контрольная группа - 59813 пользователя"
   ]
  },
  {
   "cell_type": "code",
   "execution_count": 7,
   "id": "6e07d1b1-2b8c-4fa6-a7af-50ae3f905a9b",
   "metadata": {},
   "outputs": [
    {
     "data": {
      "text/html": [
       "<div>\n",
       "<style scoped>\n",
       "    .dataframe tbody tr th:only-of-type {\n",
       "        vertical-align: middle;\n",
       "    }\n",
       "\n",
       "    .dataframe tbody tr th {\n",
       "        vertical-align: top;\n",
       "    }\n",
       "\n",
       "    .dataframe thead th {\n",
       "        text-align: right;\n",
       "    }\n",
       "</style>\n",
       "<table border=\"1\" class=\"dataframe\">\n",
       "  <thead>\n",
       "    <tr style=\"text-align: right;\">\n",
       "      <th></th>\n",
       "      <th>student_id</th>\n",
       "    </tr>\n",
       "  </thead>\n",
       "  <tbody>\n",
       "    <tr>\n",
       "      <th>0</th>\n",
       "      <td>581585</td>\n",
       "    </tr>\n",
       "    <tr>\n",
       "      <th>1</th>\n",
       "      <td>5723133</td>\n",
       "    </tr>\n",
       "    <tr>\n",
       "      <th>2</th>\n",
       "      <td>3276743</td>\n",
       "    </tr>\n",
       "    <tr>\n",
       "      <th>3</th>\n",
       "      <td>4238589</td>\n",
       "    </tr>\n",
       "    <tr>\n",
       "      <th>4</th>\n",
       "      <td>4475369</td>\n",
       "    </tr>\n",
       "  </tbody>\n",
       "</table>\n",
       "</div>"
      ],
      "text/plain": [
       "   student_id\n",
       "0      581585\n",
       "1     5723133\n",
       "2     3276743\n",
       "3     4238589\n",
       "4     4475369"
      ]
     },
     "execution_count": 7,
     "metadata": {},
     "output_type": "execute_result"
    }
   ],
   "source": [
    "studs.head(5) #датасет представляет собой только список id пользователей, зашедших на платформу во время эксперимента."
   ]
  },
  {
   "cell_type": "code",
   "execution_count": 8,
   "id": "c809b5e1-a1a9-4fea-9f00-4c41faaad7cd",
   "metadata": {},
   "outputs": [
    {
     "data": {
      "text/plain": [
       "(8341, 1)"
      ]
     },
     "execution_count": 8,
     "metadata": {},
     "output_type": "execute_result"
    }
   ],
   "source": [
    "studs.shape"
   ]
  },
  {
   "cell_type": "code",
   "execution_count": 9,
   "id": "6188bf3f-7136-46cf-b12c-2dd0be9045b7",
   "metadata": {},
   "outputs": [
    {
     "data": {
      "text/plain": [
       "(541, 2)"
      ]
     },
     "execution_count": 9,
     "metadata": {},
     "output_type": "execute_result"
    }
   ],
   "source": [
    "checks.shape # только 541 запись о платежах"
   ]
  },
  {
   "cell_type": "code",
   "execution_count": 10,
   "id": "44d23a4c-43ea-40cd-8b00-113dd0a25221",
   "metadata": {},
   "outputs": [
    {
     "data": {
      "text/html": [
       "<div>\n",
       "<style scoped>\n",
       "    .dataframe tbody tr th:only-of-type {\n",
       "        vertical-align: middle;\n",
       "    }\n",
       "\n",
       "    .dataframe tbody tr th {\n",
       "        vertical-align: top;\n",
       "    }\n",
       "\n",
       "    .dataframe thead th {\n",
       "        text-align: right;\n",
       "    }\n",
       "</style>\n",
       "<table border=\"1\" class=\"dataframe\">\n",
       "  <thead>\n",
       "    <tr style=\"text-align: right;\">\n",
       "      <th></th>\n",
       "      <th>student_id</th>\n",
       "      <th>rev</th>\n",
       "    </tr>\n",
       "  </thead>\n",
       "  <tbody>\n",
       "    <tr>\n",
       "      <th>0</th>\n",
       "      <td>1627</td>\n",
       "      <td>990.0</td>\n",
       "    </tr>\n",
       "    <tr>\n",
       "      <th>1</th>\n",
       "      <td>3185</td>\n",
       "      <td>690.0</td>\n",
       "    </tr>\n",
       "    <tr>\n",
       "      <th>2</th>\n",
       "      <td>25973</td>\n",
       "      <td>690.0</td>\n",
       "    </tr>\n",
       "    <tr>\n",
       "      <th>3</th>\n",
       "      <td>26280</td>\n",
       "      <td>690.0</td>\n",
       "    </tr>\n",
       "    <tr>\n",
       "      <th>4</th>\n",
       "      <td>100300</td>\n",
       "      <td>990.0</td>\n",
       "    </tr>\n",
       "  </tbody>\n",
       "</table>\n",
       "</div>"
      ],
      "text/plain": [
       "   student_id    rev\n",
       "0        1627  990.0\n",
       "1        3185  690.0\n",
       "2       25973  690.0\n",
       "3       26280  690.0\n",
       "4      100300  990.0"
      ]
     },
     "execution_count": 10,
     "metadata": {},
     "output_type": "execute_result"
    }
   ],
   "source": [
    "checks.head() # датасет содержит student_id и сумму чека"
   ]
  },
  {
   "cell_type": "code",
   "execution_count": 11,
   "id": "13b8b182-cb98-47da-b838-90a6e6b312e5",
   "metadata": {},
   "outputs": [
    {
     "data": {
      "text/plain": [
       "count     541.000000\n",
       "mean     1059.752317\n",
       "std       762.712359\n",
       "min       199.000000\n",
       "25%       290.000000\n",
       "50%       840.000000\n",
       "75%      1900.000000\n",
       "max      4650.000000\n",
       "Name: rev, dtype: float64"
      ]
     },
     "execution_count": 11,
     "metadata": {},
     "output_type": "execute_result"
    }
   ],
   "source": [
    "checks.rev.describe()"
   ]
  },
  {
   "cell_type": "code",
   "execution_count": 12,
   "id": "15cd3cfc-1c3c-4b42-b030-a30d1c7f7f12",
   "metadata": {},
   "outputs": [
    {
     "data": {
      "text/plain": [
       "149"
      ]
     },
     "execution_count": 12,
     "metadata": {},
     "output_type": "execute_result"
    }
   ],
   "source": [
    "# Проверка данных на консистентность: gользователи, которые платили, но не числятся активными\n",
    "paid_users = checks['student_id'].unique()\n",
    "active_users = studs['student_id'].unique()\n",
    "# и тогда оплатившие пользователи, но НЕ активные, это:\n",
    "anomaly_users = set(paid_users) - set(active_users)\n",
    "len(anomaly_users) #их количество"
   ]
  },
  {
   "cell_type": "code",
   "execution_count": 13,
   "id": "5aed2604-001b-4388-a685-8591e9da535d",
   "metadata": {},
   "outputs": [],
   "source": [
    "# уберем этих 149 неактивных пользователей из датасета плативших пользователей\n",
    "checks_clean = checks[~checks['student_id'].isin(anomaly_users)]"
   ]
  },
  {
   "cell_type": "code",
   "execution_count": 14,
   "id": "117ca237-1f2f-4818-8881-08bb2e56297c",
   "metadata": {},
   "outputs": [
    {
     "data": {
      "text/html": [
       "<div>\n",
       "<style scoped>\n",
       "    .dataframe tbody tr th:only-of-type {\n",
       "        vertical-align: middle;\n",
       "    }\n",
       "\n",
       "    .dataframe tbody tr th {\n",
       "        vertical-align: top;\n",
       "    }\n",
       "\n",
       "    .dataframe thead th {\n",
       "        text-align: right;\n",
       "    }\n",
       "</style>\n",
       "<table border=\"1\" class=\"dataframe\">\n",
       "  <thead>\n",
       "    <tr style=\"text-align: right;\">\n",
       "      <th></th>\n",
       "      <th>student_id</th>\n",
       "      <th>rev</th>\n",
       "    </tr>\n",
       "  </thead>\n",
       "  <tbody>\n",
       "    <tr>\n",
       "      <th>0</th>\n",
       "      <td>1627</td>\n",
       "      <td>990.0000</td>\n",
       "    </tr>\n",
       "    <tr>\n",
       "      <th>4</th>\n",
       "      <td>100300</td>\n",
       "      <td>990.0000</td>\n",
       "    </tr>\n",
       "    <tr>\n",
       "      <th>8</th>\n",
       "      <td>108270</td>\n",
       "      <td>290.0000</td>\n",
       "    </tr>\n",
       "    <tr>\n",
       "      <th>26</th>\n",
       "      <td>264473</td>\n",
       "      <td>1900.0001</td>\n",
       "    </tr>\n",
       "    <tr>\n",
       "      <th>27</th>\n",
       "      <td>274352</td>\n",
       "      <td>690.0000</td>\n",
       "    </tr>\n",
       "    <tr>\n",
       "      <th>...</th>\n",
       "      <td>...</td>\n",
       "      <td>...</td>\n",
       "    </tr>\n",
       "    <tr>\n",
       "      <th>536</th>\n",
       "      <td>5645737</td>\n",
       "      <td>1900.0000</td>\n",
       "    </tr>\n",
       "    <tr>\n",
       "      <th>537</th>\n",
       "      <td>5651566</td>\n",
       "      <td>1900.0000</td>\n",
       "    </tr>\n",
       "    <tr>\n",
       "      <th>538</th>\n",
       "      <td>5662322</td>\n",
       "      <td>1900.0000</td>\n",
       "    </tr>\n",
       "    <tr>\n",
       "      <th>539</th>\n",
       "      <td>5681918</td>\n",
       "      <td>1900.0000</td>\n",
       "    </tr>\n",
       "    <tr>\n",
       "      <th>540</th>\n",
       "      <td>5740903</td>\n",
       "      <td>1900.0000</td>\n",
       "    </tr>\n",
       "  </tbody>\n",
       "</table>\n",
       "<p>392 rows × 2 columns</p>\n",
       "</div>"
      ],
      "text/plain": [
       "     student_id        rev\n",
       "0          1627   990.0000\n",
       "4        100300   990.0000\n",
       "8        108270   290.0000\n",
       "26       264473  1900.0001\n",
       "27       274352   690.0000\n",
       "..          ...        ...\n",
       "536     5645737  1900.0000\n",
       "537     5651566  1900.0000\n",
       "538     5662322  1900.0000\n",
       "539     5681918  1900.0000\n",
       "540     5740903  1900.0000\n",
       "\n",
       "[392 rows x 2 columns]"
      ]
     },
     "execution_count": 14,
     "metadata": {},
     "output_type": "execute_result"
    }
   ],
   "source": [
    "checks_clean"
   ]
  },
  {
   "cell_type": "code",
   "execution_count": 15,
   "id": "31c4068b-20a5-495b-a246-fff34a362b58",
   "metadata": {},
   "outputs": [],
   "source": [
    "# объединяю датасаты, чтобы всех пользователей, кто заходил на платформу в момент эксперимента, разбить на группы контрольную и экспериментальную\n",
    "# также добавляю информацию о платежах\n",
    "sample =studs.merge(groups,how = 'left',  left_on='student_id', right_on='id').merge(checks_clean,how = 'left', on ='student_id')"
   ]
  },
  {
   "cell_type": "code",
   "execution_count": 16,
   "id": "4e01d687-1554-4934-af31-3ea9b25f0495",
   "metadata": {},
   "outputs": [
    {
     "data": {
      "text/html": [
       "<div>\n",
       "<style scoped>\n",
       "    .dataframe tbody tr th:only-of-type {\n",
       "        vertical-align: middle;\n",
       "    }\n",
       "\n",
       "    .dataframe tbody tr th {\n",
       "        vertical-align: top;\n",
       "    }\n",
       "\n",
       "    .dataframe thead th {\n",
       "        text-align: right;\n",
       "    }\n",
       "</style>\n",
       "<table border=\"1\" class=\"dataframe\">\n",
       "  <thead>\n",
       "    <tr style=\"text-align: right;\">\n",
       "      <th></th>\n",
       "      <th>student_id</th>\n",
       "      <th>id</th>\n",
       "      <th>grp</th>\n",
       "      <th>rev</th>\n",
       "    </tr>\n",
       "  </thead>\n",
       "  <tbody>\n",
       "    <tr>\n",
       "      <th>0</th>\n",
       "      <td>581585</td>\n",
       "      <td>581585.0</td>\n",
       "      <td>A</td>\n",
       "      <td>NaN</td>\n",
       "    </tr>\n",
       "    <tr>\n",
       "      <th>1</th>\n",
       "      <td>5723133</td>\n",
       "      <td>NaN</td>\n",
       "      <td>NaN</td>\n",
       "      <td>NaN</td>\n",
       "    </tr>\n",
       "    <tr>\n",
       "      <th>2</th>\n",
       "      <td>3276743</td>\n",
       "      <td>3276743.0</td>\n",
       "      <td>B</td>\n",
       "      <td>NaN</td>\n",
       "    </tr>\n",
       "    <tr>\n",
       "      <th>3</th>\n",
       "      <td>4238589</td>\n",
       "      <td>4238589.0</td>\n",
       "      <td>A</td>\n",
       "      <td>NaN</td>\n",
       "    </tr>\n",
       "    <tr>\n",
       "      <th>4</th>\n",
       "      <td>4475369</td>\n",
       "      <td>4475369.0</td>\n",
       "      <td>B</td>\n",
       "      <td>NaN</td>\n",
       "    </tr>\n",
       "    <tr>\n",
       "      <th>...</th>\n",
       "      <td>...</td>\n",
       "      <td>...</td>\n",
       "      <td>...</td>\n",
       "      <td>...</td>\n",
       "    </tr>\n",
       "    <tr>\n",
       "      <th>8336</th>\n",
       "      <td>1794344</td>\n",
       "      <td>1794344.0</td>\n",
       "      <td>B</td>\n",
       "      <td>NaN</td>\n",
       "    </tr>\n",
       "    <tr>\n",
       "      <th>8337</th>\n",
       "      <td>296883</td>\n",
       "      <td>296883.0</td>\n",
       "      <td>B</td>\n",
       "      <td>NaN</td>\n",
       "    </tr>\n",
       "    <tr>\n",
       "      <th>8338</th>\n",
       "      <td>3598448</td>\n",
       "      <td>3598448.0</td>\n",
       "      <td>B</td>\n",
       "      <td>NaN</td>\n",
       "    </tr>\n",
       "    <tr>\n",
       "      <th>8339</th>\n",
       "      <td>3610547</td>\n",
       "      <td>3610547.0</td>\n",
       "      <td>B</td>\n",
       "      <td>290.0</td>\n",
       "    </tr>\n",
       "    <tr>\n",
       "      <th>8340</th>\n",
       "      <td>205705</td>\n",
       "      <td>205705.0</td>\n",
       "      <td>B</td>\n",
       "      <td>NaN</td>\n",
       "    </tr>\n",
       "  </tbody>\n",
       "</table>\n",
       "<p>8341 rows × 4 columns</p>\n",
       "</div>"
      ],
      "text/plain": [
       "      student_id         id  grp    rev\n",
       "0         581585   581585.0    A    NaN\n",
       "1        5723133        NaN  NaN    NaN\n",
       "2        3276743  3276743.0    B    NaN\n",
       "3        4238589  4238589.0    A    NaN\n",
       "4        4475369  4475369.0    B    NaN\n",
       "...          ...        ...  ...    ...\n",
       "8336     1794344  1794344.0    B    NaN\n",
       "8337      296883   296883.0    B    NaN\n",
       "8338     3598448  3598448.0    B    NaN\n",
       "8339     3610547  3610547.0    B  290.0\n",
       "8340      205705   205705.0    B    NaN\n",
       "\n",
       "[8341 rows x 4 columns]"
      ]
     },
     "execution_count": 16,
     "metadata": {},
     "output_type": "execute_result"
    }
   ],
   "source": [
    "sample # в объединенном датасете 8341 запись, но встречаются пользователи, не попавшие ни в контрольную (А), ни в экспериментальную (B) группу"
   ]
  },
  {
   "cell_type": "code",
   "execution_count": 17,
   "id": "442c09db-4ba8-4622-a9eb-c983d708a3e9",
   "metadata": {},
   "outputs": [],
   "source": [
    "sample = sample.drop(columns = 'id')"
   ]
  },
  {
   "cell_type": "code",
   "execution_count": 18,
   "id": "c43819b4-3650-49ce-abce-bc8660ca1662",
   "metadata": {},
   "outputs": [],
   "source": [
    "sample = sample.loc[sample['grp'].notna()] # оставлю в датасете только пользователей групп A и B"
   ]
  },
  {
   "cell_type": "code",
   "execution_count": 19,
   "id": "02079d27-f9f4-48fb-967b-73461d2c9f6d",
   "metadata": {},
   "outputs": [
    {
     "data": {
      "text/plain": [
       "B    6793\n",
       "A    1535\n",
       "Name: grp, dtype: int64"
      ]
     },
     "execution_count": 19,
     "metadata": {},
     "output_type": "execute_result"
    }
   ],
   "source": [
    "sample['grp'].value_counts()"
   ]
  },
  {
   "cell_type": "code",
   "execution_count": 20,
   "id": "ba067979-edc0-4bfa-90de-e30824cdf8a0",
   "metadata": {},
   "outputs": [],
   "source": [
    "sample['rev'] = round(sample['rev'], 2)  #округлю значения оплат"
   ]
  },
  {
   "cell_type": "code",
   "execution_count": 21,
   "id": "fd63deac-389c-4cc3-aa88-3b03b22868c3",
   "metadata": {},
   "outputs": [],
   "source": [
    "paids = sample.groupby('student_id').agg({'rev':'count'})"
   ]
  },
  {
   "cell_type": "code",
   "execution_count": 22,
   "id": "759a9936-3368-4b11-9a15-3fa97abdaad8",
   "metadata": {},
   "outputs": [
    {
     "data": {
      "text/plain": [
       "0    7937\n",
       "1     391\n",
       "Name: rev, dtype: int64"
      ]
     },
     "execution_count": 22,
     "metadata": {},
     "output_type": "execute_result"
    }
   ],
   "source": [
    "paids.rev.value_counts() # в датасете нет пользователей, оплачивавших больше одного раза"
   ]
  },
  {
   "cell_type": "markdown",
   "id": "7ca66524-4b61-4375-b6fe-50b7443e3f05",
   "metadata": {},
   "source": [
    "### Формулировка гипотезы и выбор метрик\n",
    "\n",
    "Сформулирую гипотезу следующим образом:\n",
    "\n",
    "    \"Если изменить способ оплаты на новый - более удобный и эффективный, то конверсия в оплату увеличится (на 2 п.п., например)\"\n",
    "\n",
    "И тогда выбираю такие метрики:\n",
    "- Основная метрика:  согласно моей гипотезе - конверсия в оплату (CR)\n",
    "- Прокси-метрика: средняя выручка на пользователя ARPU (Average Revenue per User) или средняя выручка на платящего ARPPU (Average Revenue per Paying User)\n",
    "- Guardrail-метрика (если предположить, что я могу их пронаблюдать): доля возвратов по заказам, оплаченным новым методом; Payment Error Rate, доля незавершенных оплат (одним словом, все что покажет, что новая фича оплаты работает с проблемами)\n",
    "\n",
    "1. Конверия в оплату - продуктовая метрика, так как отвечает на вопрос \"стало ли клиенту удобнее (платить)?\", фича влияет на поведение клиента, оценивает влияние новой фичи.\n",
    "\n",
    "2. Прокси 1: Средняя выручка на пользователя ARPU - скорее метрика роста, так как измеряет денежный результат на базу клиентов; но в А/B-тесте её можно рассматривать как продуктовую прокси-метрику, потому что она показывает эффект от конкретного изменения в UX.\n",
    "3. Прокси 2: Средняя выручка на платящего ARPPU - оценивает поведение платящего клиента, поэтому скорее метрика продуктовая. \n",
    "\n",
    "так как ARPU = CR * ARPPU, возьму одну прокси-метрику, пусть будет ARPU\n",
    "\n",
    "- немного про guardrail-метрику доля возвратов по заказам, оплаченным новым методом: предположу, что отдельные виды оплаты удобны тем, что процесс возврата средств там максимально простой и быстрый. тогда покупатели, предполагая, что вернуть средства будет быстро и просто, могу охотнее покупать этим методом. пожтмоу считаю важным эту метрику отслеживать."
   ]
  },
  {
   "cell_type": "markdown",
   "id": "eeafa326-e7a3-42a6-a60a-5eef8fd70b5f",
   "metadata": {},
   "source": [
    "Определяю правила расчета метрик:"
   ]
  },
  {
   "cell_type": "code",
   "execution_count": 23,
   "id": "ce09655e-7045-4b53-9bcb-dda9553fc15a",
   "metadata": {},
   "outputs": [
    {
     "data": {
      "text/html": [
       "<div>\n",
       "<style scoped>\n",
       "    .dataframe tbody tr th:only-of-type {\n",
       "        vertical-align: middle;\n",
       "    }\n",
       "\n",
       "    .dataframe tbody tr th {\n",
       "        vertical-align: top;\n",
       "    }\n",
       "\n",
       "    .dataframe thead th {\n",
       "        text-align: right;\n",
       "    }\n",
       "</style>\n",
       "<table border=\"1\" class=\"dataframe\">\n",
       "  <thead>\n",
       "    <tr style=\"text-align: right;\">\n",
       "      <th></th>\n",
       "      <th>users</th>\n",
       "      <th>payers</th>\n",
       "      <th>PCR</th>\n",
       "    </tr>\n",
       "    <tr>\n",
       "      <th>grp</th>\n",
       "      <th></th>\n",
       "      <th></th>\n",
       "      <th></th>\n",
       "    </tr>\n",
       "  </thead>\n",
       "  <tbody>\n",
       "    <tr>\n",
       "      <th>A</th>\n",
       "      <td>1535</td>\n",
       "      <td>78</td>\n",
       "      <td>0.050814</td>\n",
       "    </tr>\n",
       "    <tr>\n",
       "      <th>B</th>\n",
       "      <td>6793</td>\n",
       "      <td>313</td>\n",
       "      <td>0.046077</td>\n",
       "    </tr>\n",
       "  </tbody>\n",
       "</table>\n",
       "</div>"
      ],
      "text/plain": [
       "     users  payers       PCR\n",
       "grp                         \n",
       "A     1535      78  0.050814\n",
       "B     6793     313  0.046077"
      ]
     },
     "execution_count": 23,
     "metadata": {},
     "output_type": "execute_result"
    }
   ],
   "source": [
    "# рассчитаю CR по платящим\n",
    "sample.assign(paid = sample['rev'].notna().astype(int)) \\\n",
    "      .groupby('grp') \\\n",
    "      .agg(users=('student_id','nunique'), payers=('paid','sum')) \\\n",
    "      .assign(PCR=lambda d: d.payers / d.users)\n"
   ]
  },
  {
   "cell_type": "code",
   "execution_count": 24,
   "id": "f475031f-9818-47b0-b98d-262998feb367",
   "metadata": {},
   "outputs": [
    {
     "data": {
      "text/html": [
       "<div>\n",
       "<style scoped>\n",
       "    .dataframe tbody tr th:only-of-type {\n",
       "        vertical-align: middle;\n",
       "    }\n",
       "\n",
       "    .dataframe tbody tr th {\n",
       "        vertical-align: top;\n",
       "    }\n",
       "\n",
       "    .dataframe thead th {\n",
       "        text-align: right;\n",
       "    }\n",
       "</style>\n",
       "<table border=\"1\" class=\"dataframe\">\n",
       "  <thead>\n",
       "    <tr style=\"text-align: right;\">\n",
       "      <th></th>\n",
       "      <th>revenue</th>\n",
       "      <th>user_count</th>\n",
       "      <th>ARPU</th>\n",
       "    </tr>\n",
       "    <tr>\n",
       "      <th>grp</th>\n",
       "      <th></th>\n",
       "      <th></th>\n",
       "      <th></th>\n",
       "    </tr>\n",
       "  </thead>\n",
       "  <tbody>\n",
       "    <tr>\n",
       "      <th>A</th>\n",
       "      <td>72820.0</td>\n",
       "      <td>1535</td>\n",
       "      <td>47.439739</td>\n",
       "    </tr>\n",
       "    <tr>\n",
       "      <th>B</th>\n",
       "      <td>393074.0</td>\n",
       "      <td>6793</td>\n",
       "      <td>57.864566</td>\n",
       "    </tr>\n",
       "  </tbody>\n",
       "</table>\n",
       "</div>"
      ],
      "text/plain": [
       "      revenue  user_count       ARPU\n",
       "grp                                 \n",
       "A     72820.0        1535  47.439739\n",
       "B    393074.0        6793  57.864566"
      ]
     },
     "execution_count": 24,
     "metadata": {},
     "output_type": "execute_result"
    }
   ],
   "source": [
    "# рассчитаю ARPU\n",
    "sample.groupby('grp') \\\n",
    "        .agg(revenue = ('rev','sum'), user_count = ('student_id', 'nunique')) \\\n",
    "        .assign(ARPU=lambda x: x['revenue'] / x['user_count'])"
   ]
  },
  {
   "cell_type": "code",
   "execution_count": 25,
   "id": "d1edd6f4-d046-4814-8fb6-7128bd53b5f9",
   "metadata": {},
   "outputs": [
    {
     "data": {
      "text/html": [
       "<div>\n",
       "<style scoped>\n",
       "    .dataframe tbody tr th:only-of-type {\n",
       "        vertical-align: middle;\n",
       "    }\n",
       "\n",
       "    .dataframe tbody tr th {\n",
       "        vertical-align: top;\n",
       "    }\n",
       "\n",
       "    .dataframe thead th {\n",
       "        text-align: right;\n",
       "    }\n",
       "</style>\n",
       "<table border=\"1\" class=\"dataframe\">\n",
       "  <thead>\n",
       "    <tr style=\"text-align: right;\">\n",
       "      <th></th>\n",
       "      <th>revenue</th>\n",
       "      <th>payers</th>\n",
       "      <th>ARPPU</th>\n",
       "    </tr>\n",
       "    <tr>\n",
       "      <th>grp</th>\n",
       "      <th></th>\n",
       "      <th></th>\n",
       "      <th></th>\n",
       "    </tr>\n",
       "  </thead>\n",
       "  <tbody>\n",
       "    <tr>\n",
       "      <th>A</th>\n",
       "      <td>72820.0</td>\n",
       "      <td>78</td>\n",
       "      <td>933.589744</td>\n",
       "    </tr>\n",
       "    <tr>\n",
       "      <th>B</th>\n",
       "      <td>393074.0</td>\n",
       "      <td>313</td>\n",
       "      <td>1255.827476</td>\n",
       "    </tr>\n",
       "  </tbody>\n",
       "</table>\n",
       "</div>"
      ],
      "text/plain": [
       "      revenue  payers        ARPPU\n",
       "grp                               \n",
       "A     72820.0      78   933.589744\n",
       "B    393074.0     313  1255.827476"
      ]
     },
     "execution_count": 25,
     "metadata": {},
     "output_type": "execute_result"
    }
   ],
   "source": [
    "# рассчитаю ARPPU\n",
    "sample.groupby('grp')\\\n",
    "    .agg(revenue=('rev','sum'),payers=('rev','count'))\\\n",
    "    .assign(ARPPU=lambda d: d['revenue'] / d['payers'])"
   ]
  },
  {
   "cell_type": "markdown",
   "id": "64483739-a5cf-4d06-ac93-0658048124a2",
   "metadata": {},
   "source": [
    "### Анализ распределения"
   ]
  },
  {
   "cell_type": "code",
   "execution_count": 26,
   "id": "13c48be4-0ac7-4297-ab28-370053a88a3e",
   "metadata": {},
   "outputs": [
    {
     "data": {
      "image/png": "[encoded data removed]",
      "text/plain": [
       "<Figure size 864x432 with 1 Axes>"
      ]
     },
     "metadata": {},
     "output_type": "display_data"
    }
   ],
   "source": [
    "sns.histplot(sample, x = 'rev', hue = 'grp', stat = 'count')\n",
    "plt.title(\"Распределение оплат\")\n",
    "plt.show()"
   ]
  },
  {
   "cell_type": "markdown",
   "id": "47ea4004-f42d-40d9-996a-394b739efd6e",
   "metadata": {},
   "source": [
    "Распределение оплат далеко от нормального для обоих групп, сильно скошенно вправо.\n",
    "В экспериментальной группе есть пик около 2000, и чеки выше встречаются чаще, чем в контрольной группе"
   ]
  },
  {
   "cell_type": "code",
   "execution_count": 27,
   "id": "c61bd466-648e-4d25-a0d5-153fae2bdb7b",
   "metadata": {},
   "outputs": [
    {
     "data": {
      "image/png": "[encoded data removed]",
      "text/plain": [
       "<Figure size 864x432 with 1 Axes>"
      ]
     },
     "metadata": {},
     "output_type": "display_data"
    },
    {
     "data": {
      "text/plain": [
       "Text(0.5, 1.0, 'Violin plot среднего чека AOV')"
      ]
     },
     "execution_count": 27,
     "metadata": {},
     "output_type": "execute_result"
    },
    {
     "data": {
      "image/png": "[encoded data removed]",
      "text/plain": [
       "<Figure size 864x432 with 1 Axes>"
      ]
     },
     "metadata": {},
     "output_type": "display_data"
    }
   ],
   "source": [
    "sns.boxplot(data=sample, x=\"grp\", y=\"rev\")\n",
    "plt.title(\"Boxplot среднего чека AOV\")\n",
    "plt.show()\n",
    "\n",
    "sns.violinplot(data=sample[sample[\"rev\"].notna()], x=\"grp\", y=\"rev\", inner=\"quartile\")\n",
    "plt.title(\"Violin plot среднего чека AOV\")"
   ]
  },
  {
   "cell_type": "markdown",
   "id": "aca99e09-e153-4bab-ba28-f2d67e19393b",
   "metadata": {},
   "source": [
    "Медианная значение среднего чека в экспериментальной группе немного выше, чем в контрольной, в обеих группах есть выбросы, у экспериментальной группы больше разброс (вариативность).\n",
    "На первый взгляд в экспериментальной группе платили больше, чем в контрольной. В контрольной группе плотность концентрируется у меньших значений (до 1000), в экспериментальной группе есть горб около 1500-2000."
   ]
  },
  {
   "cell_type": "markdown",
   "id": "f56a35ef-2059-4af4-9b21-45fb96df46da",
   "metadata": {},
   "source": [
    "### Выбор статистического критерия для всех метрик"
   ]
  },
  {
   "cell_type": "markdown",
   "id": "52ce3009-79aa-4ba4-b3a1-e166d63778a0",
   "metadata": {},
   "source": [
    "#### Основная метрика - Конверсия в оплату CR\n",
    "- Метрика бинарная: платил / не платил (так как по данным датасета checks - на одного пользователя приходится не более одного платежа).\n",
    "- Сравниваем доли двух независимых групп ((А – контроль, B – целевая группа)\n",
    "\n",
    "Выбираю **z-test for proportions**.\n",
    "\n",
    "Тогда нулевая гипотеза звучит так: *\"Конверсия в оплату одинакова в контрольной и экспериментальной группах\"*\n",
    "\n",
    "Определю 95%-й доверительный интервал"
   ]
  },
  {
   "cell_type": "markdown",
   "id": "89ab53bb-09c4-4ab6-bdb7-f9c127f5d212",
   "metadata": {},
   "source": [
    "#### Прокси-метрика: Средняя выручка на одного пользователя ARPU\n",
    "\n",
    "- Для оценки t-test требуется соблюдение условий:\n",
    "1. независимость налюдений, корректная рандомизация A/B-групп - сделаем допущение, что всё так и есть.\n",
    "2. нормальность распределения средних значений - есть большая масса нулевых значений, тяжелый правый хвост.\n",
    "3. равенство дисперсий (гомоскедастичность)\n",
    "\n",
    "Проверю гипотезу на равенство дисперсий тестом Левина:"
   ]
  },
  {
   "cell_type": "code",
   "execution_count": 28,
   "id": "b89261a6-e101-4efc-b193-286e2f9c6ece",
   "metadata": {},
   "outputs": [
    {
     "name": "stdout",
     "output_type": "stream",
     "text": [
      "p-value проверки равенства дисперсий: 0.2329\n"
     ]
    }
   ],
   "source": [
    "# дисперсии по выручке\n",
    "rev_A = sample.loc[sample['grp'] == 'A', 'rev'].fillna(0)\n",
    "rev_B = sample.loc[sample['grp'] == 'B', 'rev'].fillna(0)\n",
    "\n",
    "# проверка равенства дисперсий (Levene’s test)\n",
    "stat, pval = stats.levene(rev_A, rev_B, center='median')\n",
    "print(f\"p-value проверки равенства дисперсий: {pval:.4f}\")"
   ]
  },
  {
   "cell_type": "markdown",
   "id": "c9e54d27-ae7e-4072-9edb-acded4a189d2",
   "metadata": {},
   "source": [
    "p = 0.2329 > 0,05 это значит, что на уровне значимости 5% ошибки нет оснований отвергать гипотезу о равенстве дисперсий.\n",
    "\n",
    "**Вывод: можно использовать t-test или Уэлш t-test как более безопасный.**\n",
    "\n",
    "    Тогда нулевая гипотеза будет звучать как \"Средняя выручка на пользователя одинакова в контрольной и экспериментальной группах\""
   ]
  },
  {
   "cell_type": "markdown",
   "id": "0e2b2f6c-4d37-40ed-9152-73f7ccf49c01",
   "metadata": {},
   "source": [
    "### Расчет статистических параметров эсперимента"
   ]
  },
  {
   "cell_type": "code",
   "execution_count": 29,
   "id": "f8a4b0f8-0cd6-4ab2-93ff-45d26c27e206",
   "metadata": {},
   "outputs": [],
   "source": [
    "import numpy as np\n",
    "import statsmodels.api as sm\n",
    "from scipy.stats import bootstrap"
   ]
  },
  {
   "cell_type": "markdown",
   "id": "49df772c-ba82-4c19-8691-9cba6c4acea7",
   "metadata": {},
   "source": [
    "####  z-test for proportions для конверсии в оплату CR"
   ]
  },
  {
   "cell_type": "code",
   "execution_count": 30,
   "id": "c0d29dfc-f7e9-491a-9e4d-763eccb2db42",
   "metadata": {},
   "outputs": [
    {
     "name": "stdout",
     "output_type": "stream",
     "text": [
      "Z = 0.792, p = 0.4281\n",
      "95% CI (p_A - p_B): [-0.0073, 0.0168]\n"
     ]
    }
   ],
   "source": [
    "from statsmodels.stats.proportion import proportions_ztest, confint_proportions_2indep\n",
    "\n",
    "# x - количество оплат в группе, n - всего пользователей в группе\n",
    "x_A, n_A = sample.query(\"grp == 'A'\")[\"rev\"].notna().sum(), sample.query(\"grp == 'A'\").student_id.nunique()\n",
    "x_B, n_B = sample.query(\"grp == 'B'\")[\"rev\"].notna().sum(), sample.query(\"grp == 'B'\").student_id.nunique()\n",
    "\n",
    "z, pval = proportions_ztest([x_A, x_B], [n_A, n_B])\n",
    "ci_low, ci_up = confint_proportions_2indep(x_A, n_A, x_B, n_B, method='wald')\n",
    "\n",
    "print(f\"Z = {z:.3f}, p = {pval:.4f}\")\n",
    "print(f\"95% CI (p_A - p_B): [{ci_low:.4f}, {ci_up:.4f}]\")"
   ]
  },
  {
   "cell_type": "markdown",
   "id": "3a86eea2-9505-4dde-8826-295ee3fced86",
   "metadata": {},
   "source": [
    "- 0.792 — довольно маленькое значение, далеко от «критических» границ(+-1.96) для 95% доверительного интервала\n",
    "- p-value 0.4281 >> 0.05, значит **нет оснований отклонить нулевую гипотезу о равных конверсиях**\n",
    "- **Разница в конверсиях между группами статистически незначима**"
   ]
  },
  {
   "cell_type": "markdown",
   "id": "38706dff-872d-43a4-abfe-3c8abf82ccb1",
   "metadata": {},
   "source": [
    "#### Welch t-test для ARPU"
   ]
  },
  {
   "cell_type": "code",
   "execution_count": 31,
   "id": "5de542eb-5617-419b-8eac-a420ba03f328",
   "metadata": {},
   "outputs": [
    {
     "name": "stdout",
     "output_type": "stream",
     "text": [
      "Welch t-test p = 0.2113\n"
     ]
    }
   ],
   "source": [
    "t_stat, p_welch = stats.ttest_ind(rev_B, rev_A, equal_var=False)\n",
    "print(f'Welch t-test p = {p_welch:.4}')"
   ]
  },
  {
   "cell_type": "markdown",
   "id": "e330ef2e-4a45-4109-a71a-dc20250ae36d",
   "metadata": {},
   "source": [
    "На уровне значимости 5% значение p = 0.2113 > 0.05, и значит **нет достаточных оснований отклонить нулевую гипотезу \"средняя выручка в группах одинакова\".**"
   ]
  },
  {
   "cell_type": "markdown",
   "id": "cec98042-7aac-4f25-95a4-dcf0e3d8bd6e",
   "metadata": {},
   "source": [
    "### Выводы "
   ]
  },
  {
   "cell_type": "markdown",
   "id": "fdc6bf9b-c18e-491c-a6e8-c0ca9f747ede",
   "metadata": {},
   "source": [
    "Исходная гипотеза звучала так:\n",
    "\n",
    "    \"Если изменить способ оплаты на новый - более удобный и эффективный, то конверсия в оплату увеличится\"\n",
    "\n",
    "Данная гипотеза **не нашла подтверждения**: \n",
    "1. статистически значимого различия в конверсии в оплату для контрольной (А) и экспериментальной (В) группах не обнаружено.\n",
    "Следовательно, введение нового метода оплаты не стимулирует увеличение оплат, не влияет на решение \"купить / не купить\".\n",
    "2. также не найдено статистически значимого различия в средней выручке на пользователя\n",
    "\n",
    "Проверим, достаточен ли размер выборок, чтобы зафиксировать рост на 2 п.п и какова текущая мощность теста"
   ]
  },
  {
   "cell_type": "code",
   "execution_count": 32,
   "id": "7fbd174a-ec36-4784-b478-0f2a46385d5f",
   "metadata": {},
   "outputs": [],
   "source": [
    "from math import ceil\n",
    "from statsmodels.stats.power import NormalIndPower\n",
    "from statsmodels.stats.proportion import proportion_effectsize\n",
    "\n",
    "# требуемая выборка на группу при заданном MDE\n",
    "def n_for_cr(baseline, mde_abs=None, mde_rel=None, alpha=0.05, power=0.8, ratio=1.0):\n",
    "    assert (mde_abs is not None) ^ (mde_rel is not None), \"можно задать MDE либо в абсолютных, либо в относительных значениях\"\n",
    "    p1 = baseline\n",
    "    p2 = p1 + mde_abs if mde_abs is not None else p1*(1 + mde_rel)\n",
    "    p2 = min(max(p2, 1e-9), 1-1e-9)  # в [0,1]\n",
    "    es = proportion_effectsize(p1, p2)  # Cohen's h\n",
    "    n1 = NormalIndPower().solve_power(effect_size=es, alpha=alpha, power=power, ratio=ratio, alternative='two-sided')\n",
    "    return ceil(n1), ceil(n1*ratio)\n",
    "\n",
    "# мощность при имеющемся n\n",
    "def power_for_cr(baseline, target, n1, n2=None, alpha=0.05):\n",
    "    es = proportion_effectsize(baseline, target)\n",
    "    return NormalIndPower().power(effect_size=es, nobs1=n1, alpha=alpha, ratio=(1 if n2 is None else n2/n1),\n",
    "                                  alternative='two-sided')\n"
   ]
  },
  {
   "cell_type": "code",
   "execution_count": 33,
   "id": "1683b3cf-8fde-44b2-8805-b60d119e10b1",
   "metadata": {},
   "outputs": [],
   "source": [
    "# требуемая выборка на группу при росте CR c 0.050814 до 0.07 (MDE=+1.9 п.п.), power=80%\n",
    "nA, nB = n_for_cr(baseline=0.050814, mde_abs=0.07 - 0.050814, alpha=0.05, power=0.80, ratio=1.0)\n",
    "# мощность при текущих n и эффекте 0.05 → 0.10\n",
    "pw = power_for_cr(baseline=0.050814, target=0.07, n1=1535, n2=6793, alpha=0.05)"
   ]
  },
  {
   "cell_type": "code",
   "execution_count": 34,
   "id": "90e9d216-0b31-43b8-8728-12882a8d8b11",
   "metadata": {},
   "outputs": [
    {
     "data": {
      "text/plain": [
       "(2406, 2406)"
      ]
     },
     "execution_count": 34,
     "metadata": {},
     "output_type": "execute_result"
    }
   ],
   "source": [
    "nA, nB"
   ]
  },
  {
   "cell_type": "code",
   "execution_count": 35,
   "id": "094c323e-bb3d-4653-8d0f-c7a21771ee0b",
   "metadata": {},
   "outputs": [
    {
     "data": {
      "text/plain": [
       "0.8155090371495997"
      ]
     },
     "execution_count": 35,
     "metadata": {},
     "output_type": "execute_result"
    }
   ],
   "source": [
    "pw"
   ]
  },
  {
   "cell_type": "markdown",
   "id": "fd03f8fa-06a4-4ba9-9db9-6c386e7b9b49",
   "metadata": {},
   "source": [
    "1. Мощность теста 82% для того, чтобы зафиксировать рост на 2 п.п.\n",
    "2. Размера экспериментальной выборки достаточно, чтобы зафиксировать эффект роста на 2 п.п.."
   ]
  },
  {
   "cell_type": "markdown",
   "id": "8af20c5b-9004-42a7-a10a-980ffb869df8",
   "metadata": {},
   "source": [
    "    \"Стоит ли запускать новую механику на всех пользователей?\"\n",
    "Результаты A/B-тестирования показывают, что новая механика оплаты не влияет на конверсию в оплату и  не увеличивает среднюю выручку.\n",
    "__Не рекомендуется запускать новую механику на всех пользователей.__"
   ]
  },
  {
   "cell_type": "markdown",
   "id": "1555b3f8-dd6d-4716-a245-2fcf3da06808",
   "metadata": {},
   "source": [
    "## Задание 3\n",
    "1. Реализуйте функцию, которая будет автоматически подгружать информацию из дополнительного файла groups_add.csv (заголовки могут отличаться) и на основании дополнительных параметров пересчитывать метрики.\n",
    "2. Реализуйте функцию, которая будет строить графики по получаемым метрикам."
   ]
  },
  {
   "cell_type": "markdown",
   "id": "09c4cfeb-6ecb-4ce1-8639-b5167bb0b651",
   "metadata": {},
   "source": [
    "### Краткий разведочный анализ файла дополнительных данных"
   ]
  },
  {
   "cell_type": "code",
   "execution_count": 36,
   "id": "c3b6053f-a803-45f5-ba77-098540358002",
   "metadata": {},
   "outputs": [],
   "source": [
    "add = pd.read_csv('/home/karpov/FinalProject/group_add.csv',sep=',', index_col=None)"
   ]
  },
  {
   "cell_type": "code",
   "execution_count": 37,
   "id": "0ba87bed-3ccf-4242-abaf-d4cc0a18caee",
   "metadata": {},
   "outputs": [
    {
     "data": {
      "text/plain": [
       "B    70\n",
       "A    22\n",
       "Name: grp, dtype: int64"
      ]
     },
     "execution_count": 37,
     "metadata": {},
     "output_type": "execute_result"
    }
   ],
   "source": [
    "add.grp.value_counts() #как распределились пользователи по группам"
   ]
  },
  {
   "cell_type": "code",
   "execution_count": 38,
   "id": "d925b006-b23f-4c07-991d-83de8fa6a067",
   "metadata": {},
   "outputs": [
    {
     "name": "stdout",
     "output_type": "stream",
     "text": [
      "1\n"
     ]
    }
   ],
   "source": [
    "count = add['id'].isin(checks['student_id']).sum() #только одна оплата встречается для пользователей добавочного файла\n",
    "print(count) "
   ]
  },
  {
   "cell_type": "code",
   "execution_count": 39,
   "id": "8b7efa49-4846-4182-b0a4-60f88911f5b5",
   "metadata": {},
   "outputs": [
    {
     "name": "stdout",
     "output_type": "stream",
     "text": [
      "13\n"
     ]
    }
   ],
   "source": [
    "count = add['id'].isin(studs['student_id']).sum() #только 13 пользователей из добавного файла принимали участие в эксперименте\n",
    "print(count)"
   ]
  },
  {
   "cell_type": "markdown",
   "id": "659733d1-85e8-49e3-9df9-2735cb338e81",
   "metadata": {},
   "source": [
    "### Функции добавления новых данных в расчет A/B-теста\n",
    "\n",
    "Последовательность функций должна быть такая:\n",
    "- загрузить файл\n",
    "- распознать в нем нужные столбцы id и grp\n",
    "- выбрать в нем записи о тех пользователях, которые заходили на платформу во время эксперимента (studs)\n",
    "- к этим записям добавить информацию об оплатах (checks)\n",
    "- добавить эти записи в датасет sample\n",
    "- рассчитать метрики и стат.критерии по ним\n",
    "- построить графики по обновленным данным"
   ]
  },
  {
   "cell_type": "code",
   "execution_count": 40,
   "id": "9c1342b2-a026-4ee4-9bf4-87b611da1359",
   "metadata": {},
   "outputs": [],
   "source": [
    "# функция загрузки файла, если сделать допущение, что датасет будет их 2х столбцов, причем первый - id, второй - принадлежность к группе\n",
    "def load_file(path):\n",
    "    df = pd.read_csv(path, sep=None, engine=\"python\")\n",
    "    first, second = df.columns[:2]\n",
    "    df = df.rename(columns={first: \"student_id\", second: \"grp\"}) # задам нужные имена столбцам\n",
    "    df[\"student_id\"] = pd.to_numeric(df[\"student_id\"], errors=\"coerce\").astype(\"Int64\") #приведу столбец student_id к типу integer\n",
    "    df[\"grp\"] = df[\"grp\"].astype(str).str.upper().str.strip() #данные столбца grp будут все в верхнем регистре и без пробелов\n",
    "    return df.dropna(subset=[\"student_id\", \"grp\"]) #убираю Nan данные из датасета"
   ]
  },
  {
   "cell_type": "code",
   "execution_count": 41,
   "id": "1d7ce62f-2ec8-4844-a004-4a0e7d447770",
   "metadata": {},
   "outputs": [
    {
     "data": {
      "text/html": [
       "<div>\n",
       "<style scoped>\n",
       "    .dataframe tbody tr th:only-of-type {\n",
       "        vertical-align: middle;\n",
       "    }\n",
       "\n",
       "    .dataframe tbody tr th {\n",
       "        vertical-align: top;\n",
       "    }\n",
       "\n",
       "    .dataframe thead th {\n",
       "        text-align: right;\n",
       "    }\n",
       "</style>\n",
       "<table border=\"1\" class=\"dataframe\">\n",
       "  <thead>\n",
       "    <tr style=\"text-align: right;\">\n",
       "      <th></th>\n",
       "      <th>student_id</th>\n",
       "      <th>grp</th>\n",
       "    </tr>\n",
       "  </thead>\n",
       "  <tbody>\n",
       "    <tr>\n",
       "      <th>0</th>\n",
       "      <td>5694584</td>\n",
       "      <td>B</td>\n",
       "    </tr>\n",
       "    <tr>\n",
       "      <th>1</th>\n",
       "      <td>5694830</td>\n",
       "      <td>B</td>\n",
       "    </tr>\n",
       "    <tr>\n",
       "      <th>2</th>\n",
       "      <td>5695057</td>\n",
       "      <td>B</td>\n",
       "    </tr>\n",
       "    <tr>\n",
       "      <th>3</th>\n",
       "      <td>5698872</td>\n",
       "      <td>B</td>\n",
       "    </tr>\n",
       "    <tr>\n",
       "      <th>4</th>\n",
       "      <td>5699067</td>\n",
       "      <td>B</td>\n",
       "    </tr>\n",
       "    <tr>\n",
       "      <th>...</th>\n",
       "      <td>...</td>\n",
       "      <td>...</td>\n",
       "    </tr>\n",
       "    <tr>\n",
       "      <th>87</th>\n",
       "      <td>200247820</td>\n",
       "      <td>B</td>\n",
       "    </tr>\n",
       "    <tr>\n",
       "      <th>88</th>\n",
       "      <td>201032527</td>\n",
       "      <td>B</td>\n",
       "    </tr>\n",
       "    <tr>\n",
       "      <th>89</th>\n",
       "      <td>201067612</td>\n",
       "      <td>B</td>\n",
       "    </tr>\n",
       "    <tr>\n",
       "      <th>90</th>\n",
       "      <td>201067653</td>\n",
       "      <td>B</td>\n",
       "    </tr>\n",
       "    <tr>\n",
       "      <th>91</th>\n",
       "      <td>201067659</td>\n",
       "      <td>B</td>\n",
       "    </tr>\n",
       "  </tbody>\n",
       "</table>\n",
       "<p>92 rows × 2 columns</p>\n",
       "</div>"
      ],
      "text/plain": [
       "    student_id grp\n",
       "0      5694584   B\n",
       "1      5694830   B\n",
       "2      5695057   B\n",
       "3      5698872   B\n",
       "4      5699067   B\n",
       "..         ...  ..\n",
       "87   200247820   B\n",
       "88   201032527   B\n",
       "89   201067612   B\n",
       "90   201067653   B\n",
       "91   201067659   B\n",
       "\n",
       "[92 rows x 2 columns]"
      ]
     },
     "execution_count": 41,
     "metadata": {},
     "output_type": "execute_result"
    }
   ],
   "source": [
    "add = load_file('group_add.csv')\n",
    "add"
   ]
  },
  {
   "cell_type": "markdown",
   "id": "9d0c8b95-86c8-48b7-b84b-2aa70d2065da",
   "metadata": {},
   "source": [
    "функция сборки  датасета должна выполнять следующее:\n",
    "\n",
    "- выбрать из загруженного датасета записи о тех пользователях, которые заходили на платформу во время эксперимента (studs)\n",
    "- к этим записям добавить информацию об оплатах (checks)\n",
    "- добавить эти записи в датасет sample"
   ]
  },
  {
   "cell_type": "code",
   "execution_count": 42,
   "id": "73ceedf7-b3cb-44d0-8786-024825b16bb8",
   "metadata": {},
   "outputs": [],
   "source": [
    "def build_dataset(sample, studs, checks_clean, add):\n",
    "    newbies = add.merge(studs, how = 'left',  on='student_id').merge(checks,how = 'left', on ='student_id')\n",
    "    new_df = (pd.concat([sample, newbies], ignore_index=True, sort=False)\n",
    "            .drop_duplicates(subset=[\"student_id\"], keep=\"last\"))\n",
    "    return new_df"
   ]
  },
  {
   "cell_type": "code",
   "execution_count": 43,
   "id": "804e8652-d9a2-4214-ab57-838c67247738",
   "metadata": {},
   "outputs": [],
   "source": [
    "new_df = build_dataset(sample, studs, checks_clean, add)"
   ]
  },
  {
   "cell_type": "markdown",
   "id": "847d24a7-e5bb-4399-9b4c-a5942da4376f",
   "metadata": {},
   "source": [
    "функция расчета метрик: PCR, z-test for proportions для PCR, RPU и bootstrap средних для RPU"
   ]
  },
  {
   "cell_type": "markdown",
   "id": "21cdbff3-4d42-4121-83a2-ec64aa946fd4",
   "metadata": {},
   "source": [
    "немного меняю последовательность функций:\n",
    "сначала рассчитаю векторы данных, чтобы иметь возможность по ним и посчитать стат.критерии, и визуализацию построить в отдельных функциях"
   ]
  },
  {
   "cell_type": "code",
   "execution_count": 44,
   "id": "11f35ab1-0b99-4806-a462-a8530fbdc0ce",
   "metadata": {},
   "outputs": [],
   "source": [
    "def precompute_artifacts(df, group_col=\"grp\", user_col=\"student_id\", rev_col=\"rev\"):\n",
    "    d = df[[group_col, user_col, rev_col]].copy()\n",
    "    d[rev_col] = pd.to_numeric(d[rev_col], errors=\"coerce\")\n",
    "\n",
    "    # для CR\n",
    "    xA = d.loc[d[group_col].eq(\"A\"), rev_col].notna().sum()\n",
    "    nA = d.loc[d[group_col].eq(\"A\"), user_col].nunique()\n",
    "    xB = d.loc[d[group_col].eq(\"B\"), rev_col].notna().sum()\n",
    "    nB = d.loc[d[group_col].eq(\"B\"), user_col].nunique()\n",
    "\n",
    "    # для ARPU (нули для неплативших)\n",
    "    arpu_A = d.loc[d[group_col].eq(\"A\"), rev_col].fillna(0.0).to_numpy()\n",
    "    arpu_B = d.loc[d[group_col].eq(\"B\"), rev_col].fillna(0.0).to_numpy()\n",
    "\n",
    "    # для ARPPU (только платившие)\n",
    "    arppu_A = d.loc[d[group_col].eq(\"A\") & d[rev_col].notna(), rev_col].to_numpy()\n",
    "    arppu_B = d.loc[d[group_col].eq(\"B\") & d[rev_col].notna(), rev_col].to_numpy()\n",
    "\n",
    "    return {\"df\": d, \"xA\": xA, \"nA\": nA, \"xB\": xB, \"nB\": nB,\n",
    "            \"arpu_A\": arpu_A, \"arpu_B\": arpu_B, \"arppu_A\": arppu_A, \"arppu_B\": arppu_B}"
   ]
  },
  {
   "cell_type": "markdown",
   "id": "2f6f57db-d95d-49f8-8ffd-48a55407b228",
   "metadata": {},
   "source": [
    "Функция расчета метрик и стат.тестов"
   ]
  },
  {
   "cell_type": "code",
   "execution_count": 45,
   "id": "6c101225-e41b-4856-ad78-27ac83971d65",
   "metadata": {},
   "outputs": [],
   "source": [
    "def compute_metrics_and_tests(art, n_boot=10_000, seed=34):\n",
    "    d = art[\"df\"]\n",
    "\n",
    "    # сначала рассчитываю метрики\n",
    "    CR = (d.assign(paid=d[\"rev\"].notna().astype(int))\n",
    "            .groupby(\"grp\", as_index=False)\n",
    "            .agg(users=(\"student_id\",\"nunique\"), payers=(\"paid\",\"sum\"))\n",
    "            .assign(CR=lambda t: t.payers/t.users))\n",
    "\n",
    "    ARPU = (d.assign(rev0=d[\"rev\"].fillna(0.0))\n",
    "             .groupby(\"grp\", as_index=False)\n",
    "             .agg(revenue=(\"rev0\",\"sum\"), user_count=(\"student_id\",\"nunique\"))\n",
    "             .assign(ARPU=lambda x: x.revenue/x.user_count))\n",
    "\n",
    "    ARPPU = (d.loc[d[\"rev\"].notna()]\n",
    "             .groupby(\"grp\", as_index=False)\n",
    "             .agg(revenue=(\"rev\",\"sum\"), payers=(\"rev\",\"count\"))\n",
    "             .assign(ARPPU=lambda t: t.revenue/t.payers))\n",
    "    \n",
    "    # теперь рассчитываю стат/критерии для метрик\n",
    "    # Z-test для CR \n",
    "    z, pval = proportions_ztest([art[\"xA\"], art[\"xB\"]], [art[\"nA\"], art[\"nB\"]])\n",
    "    cr_lo, cr_hi = confint_proportions_2indep(art[\"xA\"], art[\"nA\"], art[\"xB\"], art[\"nB\"], method=\"wald\")\n",
    "\n",
    "    # перевожу строки в массивы для расчета t-test\n",
    "    arpu_A = np.asarray(art[\"arpu_A\"], dtype=float)\n",
    "    arpu_B = np.asarray(art[\"arpu_B\"], dtype=float)\n",
    "\n",
    "    #Welch t-test для ARPU (Δ = B − A)\n",
    "    t_stat, p_welch = stats.ttest_ind(arpu_B, arpu_A, equal_var=False)\n",
    "    arpu_obs = arpu_B.mean() - arpu_A.mean()\n",
    "\n",
    "\n",
    "    reports = {\n",
    "        \"CR\": f\"Z = {z:.3f}, p = {pval:.4f}\\n95% CI (p_A − p_B): [{cr_lo:.4f}, {cr_hi:.4f}]\",\n",
    "        \"ARPU\": f\"Welch t-test: t = {t_stat:.3f}, p = {p_welch:.4g}\\n\",\n",
    "    }\n",
    "\n",
    "    return {\n",
    "        \"CR\": CR, \"ARPU\": ARPU, \"ARPPU\": ARPPU,\n",
    "        \"reports\": reports,\n",
    "        \"tests\": {\n",
    "            \"CR\":   {\"z\": float(z), \"p\": float(pval), \"ci_diff\": (float(cr_lo), float(cr_hi))},\n",
    "            \"ARPU\": {\"welch_t\": float(t_stat), \"welch_p\": float(p_welch)},\n",
    "        },\n",
    "    }"
   ]
  },
  {
   "cell_type": "code",
   "execution_count": 46,
   "id": "8fc4a2c1-950e-4df7-acd4-d6841e680b8e",
   "metadata": {},
   "outputs": [],
   "source": [
    "#построить виолин по группам для выручки ARPU\n",
    "def plot_violin_paid(df, group_col=\"grp\", value_col=\"rev\"):\n",
    "    payers = df[df[value_col].notna()]\n",
    "    plt.figure()\n",
    "    sns.violinplot(data=payers, x=group_col, y=value_col, inner=\"quartile\")\n",
    "    plt.title(\"Violinplot выручки на пользователя (только платившие)\")\n",
    "    plt.tight_layout(); plt.show()\n",
    "\n",
    "# построить гистограмму конверсии\n",
    "def plot_cr_bars_from_art(art, colors = (\"cornflowerblue\", \"sandybrown\")):\n",
    "    xA = int(art[\"xA\"]); nA = int(art[\"nA\"])\n",
    "    xB = int(art[\"xB\"]); nB = int(art[\"nB\"])\n",
    "    if nA == 0 or nB == 0:\n",
    "        raise ValueError(\"nA и nB должны быть > 0\")\n",
    "        \n",
    "    pA, pB = xA / nA, xB / nB\n",
    "    z = 1.96  # ~95% CI\n",
    "    errA = z * np.sqrt(pA*(1-pA)/nA)\n",
    "    errB = z * np.sqrt(pB*(1-pB)/nB)\n",
    "\n",
    "    plt.figure()\n",
    "    plt.bar(['A','B'], [pA, pB], color=list(colors),  yerr=[errA, errB], capsize=6)\n",
    "    for i,(p,x,n) in enumerate([(pA,xA,nA),(pB,xB,nB)]):\n",
    "        plt.text(i, p, f'{p:.2%}\\n{x}/{n}', ha='center', va='bottom')\n",
    "    plt.ylabel('CR'); plt.title('CR по группам ± 95% CI')\n",
    "    plt.ylim(0, max(pA,pB) + max(errA,errB) + 0.05)\n",
    "    plt.tight_layout(); plt.show()"
   ]
  },
  {
   "cell_type": "markdown",
   "id": "73485c3c-04e9-4a83-812c-8dc111ab066a",
   "metadata": {},
   "source": [
    "оркестратор запустит последовательно расчет метрик, стат.критериев и отрисовку графиков"
   ]
  },
  {
   "cell_type": "code",
   "execution_count": 47,
   "id": "7ece2ee1-a181-49bd-9db8-7ce8cdd293d9",
   "metadata": {},
   "outputs": [
    {
     "data": {
      "text/html": [
       "<div>\n",
       "<style scoped>\n",
       "    .dataframe tbody tr th:only-of-type {\n",
       "        vertical-align: middle;\n",
       "    }\n",
       "\n",
       "    .dataframe tbody tr th {\n",
       "        vertical-align: top;\n",
       "    }\n",
       "\n",
       "    .dataframe thead th {\n",
       "        text-align: right;\n",
       "    }\n",
       "</style>\n",
       "<table border=\"1\" class=\"dataframe\">\n",
       "  <thead>\n",
       "    <tr style=\"text-align: right;\">\n",
       "      <th></th>\n",
       "      <th>grp</th>\n",
       "      <th>users</th>\n",
       "      <th>payers</th>\n",
       "      <th>CR</th>\n",
       "    </tr>\n",
       "  </thead>\n",
       "  <tbody>\n",
       "    <tr>\n",
       "      <th>0</th>\n",
       "      <td>A</td>\n",
       "      <td>1557</td>\n",
       "      <td>78</td>\n",
       "      <td>0.050096</td>\n",
       "    </tr>\n",
       "    <tr>\n",
       "      <th>1</th>\n",
       "      <td>B</td>\n",
       "      <td>6863</td>\n",
       "      <td>314</td>\n",
       "      <td>0.045753</td>\n",
       "    </tr>\n",
       "  </tbody>\n",
       "</table>\n",
       "</div>"
      ],
      "text/plain": [
       "  grp  users  payers        CR\n",
       "0   A   1557      78  0.050096\n",
       "1   B   6863     314  0.045753"
      ]
     },
     "metadata": {},
     "output_type": "display_data"
    },
    {
     "data": {
      "text/html": [
       "<div>\n",
       "<style scoped>\n",
       "    .dataframe tbody tr th:only-of-type {\n",
       "        vertical-align: middle;\n",
       "    }\n",
       "\n",
       "    .dataframe tbody tr th {\n",
       "        vertical-align: top;\n",
       "    }\n",
       "\n",
       "    .dataframe thead th {\n",
       "        text-align: right;\n",
       "    }\n",
       "</style>\n",
       "<table border=\"1\" class=\"dataframe\">\n",
       "  <thead>\n",
       "    <tr style=\"text-align: right;\">\n",
       "      <th></th>\n",
       "      <th>grp</th>\n",
       "      <th>revenue</th>\n",
       "      <th>user_count</th>\n",
       "      <th>ARPU</th>\n",
       "    </tr>\n",
       "  </thead>\n",
       "  <tbody>\n",
       "    <tr>\n",
       "      <th>0</th>\n",
       "      <td>A</td>\n",
       "      <td>72820.0</td>\n",
       "      <td>1557</td>\n",
       "      <td>46.769428</td>\n",
       "    </tr>\n",
       "    <tr>\n",
       "      <th>1</th>\n",
       "      <td>B</td>\n",
       "      <td>394974.0</td>\n",
       "      <td>6863</td>\n",
       "      <td>57.551217</td>\n",
       "    </tr>\n",
       "  </tbody>\n",
       "</table>\n",
       "</div>"
      ],
      "text/plain": [
       "  grp   revenue  user_count       ARPU\n",
       "0   A   72820.0        1557  46.769428\n",
       "1   B  394974.0        6863  57.551217"
      ]
     },
     "metadata": {},
     "output_type": "display_data"
    },
    {
     "data": {
      "text/html": [
       "<div>\n",
       "<style scoped>\n",
       "    .dataframe tbody tr th:only-of-type {\n",
       "        vertical-align: middle;\n",
       "    }\n",
       "\n",
       "    .dataframe tbody tr th {\n",
       "        vertical-align: top;\n",
       "    }\n",
       "\n",
       "    .dataframe thead th {\n",
       "        text-align: right;\n",
       "    }\n",
       "</style>\n",
       "<table border=\"1\" class=\"dataframe\">\n",
       "  <thead>\n",
       "    <tr style=\"text-align: right;\">\n",
       "      <th></th>\n",
       "      <th>grp</th>\n",
       "      <th>revenue</th>\n",
       "      <th>payers</th>\n",
       "      <th>ARPPU</th>\n",
       "    </tr>\n",
       "  </thead>\n",
       "  <tbody>\n",
       "    <tr>\n",
       "      <th>0</th>\n",
       "      <td>A</td>\n",
       "      <td>72820.0</td>\n",
       "      <td>78</td>\n",
       "      <td>933.589744</td>\n",
       "    </tr>\n",
       "    <tr>\n",
       "      <th>1</th>\n",
       "      <td>B</td>\n",
       "      <td>394974.0</td>\n",
       "      <td>314</td>\n",
       "      <td>1257.878981</td>\n",
       "    </tr>\n",
       "  </tbody>\n",
       "</table>\n",
       "</div>"
      ],
      "text/plain": [
       "  grp   revenue  payers        ARPPU\n",
       "0   A   72820.0      78   933.589744\n",
       "1   B  394974.0     314  1257.878981"
      ]
     },
     "metadata": {},
     "output_type": "display_data"
    },
    {
     "name": "stdout",
     "output_type": "stream",
     "text": [
      "Z = 0.734, p = 0.4627\n",
      "95% CI (p_A − p_B): [-0.0076, 0.0163] \n",
      "\n",
      "Welch t-test: t = 1.310, p = 0.1904\n",
      "\n"
     ]
    },
    {
     "data": {
      "image/png": "[encoded data removed]",
      "text/plain": [
       "<Figure size 864x432 with 1 Axes>"
      ]
     },
     "metadata": {},
     "output_type": "display_data"
    },
    {
     "data": {
      "image/png": "[encoded data removed]",
      "text/plain": [
       "<Figure size 864x432 with 1 Axes>"
      ]
     },
     "metadata": {},
     "output_type": "display_data"
    }
   ],
   "source": [
    "# я уже собрала первой функцией датасет с объединенными данными new_df со столбцами grp, student_id, rev\n",
    "art = precompute_artifacts(new_df)                \n",
    "res = compute_metrics_and_tests(art, n_boot=10_000, seed=34)\n",
    "\n",
    "# рассчитать метрики + текст\n",
    "display(res[\"CR\"]); display(res[\"ARPU\"]); display(res[\"ARPPU\"])\n",
    "print(res[\"reports\"][\"CR\"], \"\\n\") \n",
    "print(res[\"reports\"][\"ARPU\"])\n",
    "\n",
    "# построить графики:\n",
    "plot_violin_paid(art[\"df\"])\n",
    "plot_cr_bars_from_art(art)"
   ]
  },
  {
   "cell_type": "markdown",
   "id": "cd2177f2-0df9-47a0-a84a-9981b84b7b80",
   "metadata": {},
   "source": [
    "    После добавления новых данных  есть небольшие флуктуации в метриках. в большую и меньшую стоону в десятых и сотых долях, но картина в стат. критериях не изменилась для обоих метрик: p-values стат.критериев обоих метрик больше 0.05, и значит гипотезы о равенстве не отклоняются."
   ]
  },
  {
   "cell_type": "markdown",
   "id": "1f0318f7-419f-4f91-a4f1-88a5b225f264",
   "metadata": {
    "tags": []
   },
   "source": [
    "## Задание 2. SQL"
   ]
  },
  {
   "cell_type": "markdown",
   "id": "bbfe6977-bb59-438a-9443-a2cab226644f",
   "metadata": {
    "tags": []
   },
   "source": [
    "### 2.1 Очень усердные ученики\n",
    "\n",
    "Необходимо написать оптимальный запрос, который даст информацию о количестве очень усердных студентов.\n",
    "\n",
    "    NB! Под усердным студентом мы понимаем студента, который правильно решил 20 задач за текущий месяц."
   ]
  },
  {
   "cell_type": "raw",
   "id": "b81c9929-36c5-41f2-9b87-41496136264b",
   "metadata": {},
   "source": [
    "SELECT COUNT(*)\n",
    "FROM(\n",
    "    SELECT  st_id\n",
    "    FROM peas\n",
    "    WHERE correct = 'true'\n",
    "    GROUP BY st_id\n",
    "    HAVING COUNT(*) >= 20\n",
    "    ) AS all_diligent;\n",
    "  "
   ]
  },
  {
   "cell_type": "markdown",
   "id": "5deb4c02-7aca-481e-b69b-70c1cd4971e7",
   "metadata": {},
   "source": [
    "### 2.2 Оптимизация воронки"
   ]
  },
  {
   "cell_type": "markdown",
   "id": "8ba29378-d830-4fda-a037-fa23e2ef1e39",
   "metadata": {},
   "source": [
    "#### 2.2.1 Условие\n",
    "Образовательная платформа предлагает пройти студентам курсы по модели trial: студент может решить бесплатно лишь 30 горошин в день. \n",
    "Для неограниченного количества заданий в определенной дисциплине студенту необходимо приобрести полный доступ. \n",
    "Команда провела эксперимент, где был протестирован новый экран оплаты.*/\n",
    "#### 2.2.2 Задача\n",
    "Необходимо в одном запросе выгрузить следующую информацию о группах пользователей:\n",
    "- ARPU \n",
    "- ARPAU \n",
    "- CR в покупку \n",
    "- СR активного пользователя в покупку \n",
    "- CR пользователя из активности по математике (subject = ’math’) в покупку курса по математике\n",
    "\n",
    "    ARPU считается относительно всех пользователей, попавших в группы.\n",
    "\n",
    "    Активным считается пользователь, за все время решивший больше 10 задач правильно в любых дисциплинах.\n",
    "\n",
    "    Активным по математике считается пользователь, за все время решивший 2 или больше задач правильно по математике. "
   ]
  },
  {
   "cell_type": "raw",
   "id": "afe2ccb3-a523-40d5-bf7e-8d92e2544762",
   "metadata": {},
   "source": [
    "/*первый cte acts считает для каждого студента таблицы peas количество правильно решенных горошин по всем предметам и только по математике\n",
    "*/\n",
    "WITH acts AS (\n",
    "  SELECT\n",
    "    p.st_id,\n",
    "    COUNT(1) FILTER (WHERE p.correct) AS corr_all,\n",
    "    COUNT(1) FILTER (WHERE p.correct AND lower(p.subject)='math') AS corr_math\n",
    "  FROM peas p\n",
    "  GROUP BY p.st_id\n",
    "),\n",
    "/* второй cte purch считает по таблице с деньгами на каждого студента общую выручку revenue, количество покупок курсов  всех предметов purch_cnt,\n",
    "количество покупок курса математики*/\n",
    "purch AS (\n",
    "  SELECT\n",
    "    f.st_id,\n",
    "    SUM(f.money)AS revenue,\n",
    "    COUNT(1) AS purch_cnt,\n",
    "    COUNT(1) FILTER (WHERE f.subject='Math') AS purch_math_cnt\n",
    "  FROM final_project_check f\n",
    "  GROUP BY f.st_id\n",
    "),\n",
    "/*третий cte объединяет таблицы двух первых cte c таблицей studs (группы), заполняя пустые значения нулями, чтобы расчеты были корректными и устойчивыми */\n",
    "joined AS (\n",
    "  SELECT\n",
    "    s.test_grp,\n",
    "    s.st_id,\n",
    "    COALESCE(a.corr_all,0)  AS corr_all, -- заполняю пустые значение горошин на нули для нерешивших правильно\n",
    "    COALESCE(a.corr_math,0) AS corr_math, -- заполняю пустые значение горошин на нули для нерешивших математические горошины правильно\n",
    "    COALESCE(p.revenue,0)   AS revenue, --заполняю пустые значение выручки неплатящим\n",
    "    COALESCE(p.purch_cnt,0) AS purch_cnt, -- заполняю пустые значение покупок неплатящим\n",
    "    COALESCE(p.purch_math_cnt,0) AS purch_math_cnt --заполняю пустые значение покупок математики неплатящим\n",
    "  FROM studs s\n",
    "  LEFT JOIN acts  a ON a.st_id = s.st_id\n",
    "  LEFT JOIN purch p ON p.st_id = s.st_id\n",
    ")\n",
    "-- вычисляю метрики по полученному датасету joined\n",
    "SELECT\n",
    "  test_grp,\n",
    "  AVG(revenue)::numeric AS arpu, -- ARPU: средняя выручка на пользователя (у неплательщиков revenue=0)\n",
    "  (AVG(revenue) FILTER (WHERE corr_all > 10))::numeric AS arpau ,  -- ARPAU: средняя выручка на активного пользователя\n",
    "  AVG((purch_cnt > 0)::int)::numeric AS cr_purchase, -- CR в покупку: доля купивших среди всех\n",
    "  AVG((purch_cnt > 0)::int) FILTER (WHERE corr_all > 10) AS cr_active_to_purchase, -- CR активного пользователя в покупку\n",
    "  AVG((purch_math_cnt > 0)::int) FILTER (WHERE corr_math >= 2)  AS cr_active_math_to_math_purchase -- CR активного по math в покупку math \n",
    "FROM joined\n",
    "GROUP BY test_grp;"
   ]
  },
  {
   "cell_type": "code",
   "execution_count": null,
   "id": "e44f12c6-48af-4618-8c11-1f1c06e30cad",
   "metadata": {},
   "outputs": [],
   "source": []
  }
 ],
 "metadata": {
  "kernelspec": {
   "display_name": "Python 3 (ipykernel)",
   "language": "python",
   "name": "python3"
  },
  "language_info": {
   "codemirror_mode": {
    "name": "ipython",
    "version": 3
   },
   "file_extension": ".py",
   "mimetype": "text/x-python",
   "name": "python",
   "nbconvert_exporter": "python",
   "pygments_lexer": "ipython3",
   "version": "3.8.10"
  }
 },
 "nbformat": 4,
 "nbformat_minor": 5
}
